{
 "cells": [
  {
   "cell_type": "markdown",
   "id": "310b08db",
   "metadata": {},
   "source": [
    "# PROJECT - FILE HANDLING AND STRING MANUPULATION \n",
    "SIMRITHA R "
   ]
  },
  {
   "cell_type": "code",
   "execution_count": 1,
   "id": "4f6da24e",
   "metadata": {},
   "outputs": [],
   "source": [
    "# opening the dialogue text file using with open()\n",
    "\n",
    "with open('C:/Users/Sivam/Downloads/C1-Project-File Handling & String Manipulation-Dataset/conv.txt','r') as f:    \n",
    "    complete_text =  f.read() # reading the file using a file object "
   ]
  },
  {
   "cell_type": "code",
   "execution_count": 2,
   "id": "ca53e47d",
   "metadata": {},
   "outputs": [],
   "source": [
    "# splitting the lines using the split() and assigning it to var linesep\n",
    "linesep=complete_text.split(\"\\n\")\n",
    "\n",
    "#creating a new var to store the text by using the slice operation with parameter skip=2 to eliminate empty lines\n",
    "linesepp=linesep[::2]\n",
    "\n",
    "# creating a new text file to store the character names\n",
    "charfile = open('C:/Users/Sivam/Downloads/C1-Project-File Handling & String Manipulation-Dataset/new_file.txt','w+')\n",
    "# creating a new list to store the unique character names\n",
    "charlist=[]\n"
   ]
  },
  {
   "cell_type": "code",
   "execution_count": 3,
   "id": "30385f54",
   "metadata": {},
   "outputs": [],
   "source": [
    "# creating a loop to seperate the names from the dialogues to find unique characters\n",
    "\n",
    "for i in range(len(linesepp)):\n",
    "    # newlist is assigned to store the names of the character and the dialogue by split() \n",
    "    newlist=linesepp[i].split(\":\")\n",
    "    \n",
    "    # this condition checks if the name is already in charlist \n",
    "    if newlist[0] not in charlist:\n",
    "        # if not present then add it to the list using the append()\n",
    "        charlist.append(newlist[0])"
   ]
  },
  {
   "cell_type": "markdown",
   "id": "15440682",
   "metadata": {},
   "source": [
    "# OUTPUT - CHARACTER LIST"
   ]
  },
  {
   "cell_type": "code",
   "execution_count": 4,
   "id": "2be86f3a",
   "metadata": {},
   "outputs": [
    {
     "name": "stdout",
     "output_type": "stream",
     "text": [
      "['WILL', 'WAYMAR ROYCE', 'GARED', 'ROYCE', 'JON', 'SEPTA MORDANE', 'SANSA', 'NED', 'ROBB', 'CASSEL', 'CATELYN', 'BRAN', 'THEON', 'CERSEI', 'JAIME', 'ROBERT', 'ARYA']\n"
     ]
    },
    {
     "data": {
      "text/plain": [
       "17"
      ]
     },
     "execution_count": 4,
     "metadata": {},
     "output_type": "execute_result"
    }
   ],
   "source": [
    "print(charlist)\n",
    "len(charlist)"
   ]
  },
  {
   "cell_type": "code",
   "execution_count": 5,
   "id": "76282b84",
   "metadata": {},
   "outputs": [],
   "source": [
    "# creating a new list to store the dialogues \n",
    "diallist=[]\n",
    "# creating a new list to store the uniqu\n",
    "finlist=[]"
   ]
  },
  {
   "cell_type": "code",
   "execution_count": 6,
   "id": "92f46c81",
   "metadata": {},
   "outputs": [],
   "source": [
    "# creating a new function to find the unique words in the dialogue for each character\n",
    "\n",
    "def speakerdial(x): # x is the character name \n",
    "    \n",
    "    # creating a loop to seperate the names from the dialogues to find unique characters\n",
    "    for i in range(len(linesepp)):\n",
    "        # newlist is assigned to store the names of the character and the dialogue by split()\n",
    "        newlist=linesepp[i].split(\":\")\n",
    "        \n",
    "        # this condition checks for the character name and the names in newlist match\n",
    "        if charlist[x] == newlist[0]:\n",
    "            #if they match then the dialogue text is added to the daillist list usind append()\n",
    "            diallist.append(newlist[1])\n",
    "    \n",
    "    # creating a new text file to store the dialogues of the character \n",
    "    dfile = open('C:/Users/Sivam/Downloads/C1-Project-File Handling & String Manipulation-Dataset/dialfile.txt','w+')\n",
    "    # writing into the file using the file object dfile\n",
    "    dfile.writelines(diallist)\n",
    "    \n",
    "    # using the seek() to move the pointer to the begining of the file\n",
    "    dfile.seek(0)\n",
    "    # reading the file dialfile\n",
    "    uniquecheck=dfile.read()\n",
    "    # splitting each sentence into seperate words using split() and storing it in unique_check list\n",
    "    unique_check=uniquecheck.split(\" \") \n",
    "  \n",
    "    # creating a loop to iterate through the words in the list\n",
    "    for i in range(len(unique_check)):\n",
    "        \n",
    "        # this condition checks if the word is already in unique_check list\n",
    "        if unique_check[i] not in finlist:\n",
    "            # if not present then add it to the list using the append()\n",
    "            finlist.append(unique_check[i])\n",
    "    # removing the empty space items using remove()        \n",
    "    finlist.remove(\"\")       \n"
   ]
  },
  {
   "cell_type": "code",
   "execution_count": 7,
   "id": "6b296206",
   "metadata": {
    "scrolled": true
   },
   "outputs": [],
   "source": [
    "#calling the function and sending the character index as parameter\n",
    "\n",
    "speakerdial(0)\n",
    "\n",
    "# creating a new file with the character name\n",
    "with open('C:/Users/Sivam/Downloads/C1-Project-File Handling & String Manipulation-Dataset/WILL.txt','w+') as WILL_text:\n",
    "    WILL_text.write(\"WILL\\n\\n\")\n",
    "    # wrinting the unique words into the file\n",
    "    for line in finlist:\n",
    "        WILL_text.write(f'{line}\\n')    "
   ]
  },
  {
   "cell_type": "code",
   "execution_count": 8,
   "id": "1283353f",
   "metadata": {
    "scrolled": true
   },
   "outputs": [],
   "source": [
    "diallist=[]\n",
    "finlist=[]\n",
    "speakerdial(1)\n",
    "\n",
    "with open('C:/Users/Sivam/Downloads/C1-Project-File Handling & String Manipulation-Dataset/WAYMAR ROYCE.txt','w+')as WAYMARROYCE_text:\n",
    "    WAYMARROYCE_text.write(\"WAYMAR ROYCE\\n\\n\")\n",
    "    for line in finlist:\n",
    "        WAYMARROYCE_text.write(f'{line}\\n')"
   ]
  },
  {
   "cell_type": "code",
   "execution_count": 9,
   "id": "f628ea71",
   "metadata": {},
   "outputs": [],
   "source": [
    "diallist=[]\n",
    "finlist=[]\n",
    "speakerdial(2)\n",
    "\n",
    "with open('C:/Users/Sivam/Downloads/C1-Project-File Handling & String Manipulation-Dataset/GARED.txt','w+')as GARED_text:\n",
    "    GARED_text.write(\"GARED\\n\\n\")\n",
    "    for line in finlist:\n",
    "        GARED_text.write(f'{line}\\n')"
   ]
  },
  {
   "cell_type": "code",
   "execution_count": 10,
   "id": "9c32a4b1",
   "metadata": {},
   "outputs": [],
   "source": [
    "diallist=[]\n",
    "finlist=[]\n",
    "speakerdial(3)\n",
    "\n",
    "with open('C:/Users/Sivam/Downloads/C1-Project-File Handling & String Manipulation-Dataset/ROYCE.txt','w+')as ROYCE_text:\n",
    "    ROYCE_text.write(\"ROYCE\\n\\n\")\n",
    "    for line in finlist:\n",
    "        ROYCE_text.write(f'{line}\\n')"
   ]
  },
  {
   "cell_type": "code",
   "execution_count": 11,
   "id": "062705c0",
   "metadata": {},
   "outputs": [],
   "source": [
    "diallist=[]\n",
    "finlist=[]\n",
    "speakerdial(4)\n",
    "\n",
    "with open('C:/Users/Sivam/Downloads/C1-Project-File Handling & String Manipulation-Dataset/JON.txt','w+')as JON_text:\n",
    "    JON_text.write(\"JON\\n\\n\")\n",
    "    for line in finlist:\n",
    "        JON_text.write(f'{line}\\n')"
   ]
  },
  {
   "cell_type": "code",
   "execution_count": 12,
   "id": "ea625d87",
   "metadata": {},
   "outputs": [],
   "source": [
    "diallist=[]\n",
    "finlist=[]\n",
    "speakerdial(5)\n",
    "\n",
    "with open('C:/Users/Sivam/Downloads/C1-Project-File Handling & String Manipulation-Dataset/SEPTA MORDANE.txt','w+')as SEPTAMORDANE_text:\n",
    "    SEPTAMORDANE_text.write(\"SEPTA MORDANE\\n\\n\")\n",
    "    for line in finlist:\n",
    "        SEPTAMORDANE_text.write(f'{line}\\n')"
   ]
  },
  {
   "cell_type": "code",
   "execution_count": 13,
   "id": "d9a1d751",
   "metadata": {},
   "outputs": [],
   "source": [
    "diallist=[]\n",
    "finlist=[]\n",
    "speakerdial(6)\n",
    "\n",
    "with open('C:/Users/Sivam/Downloads/C1-Project-File Handling & String Manipulation-Dataset/SANSA.txt','w+')as SANSA_text:\n",
    "    SANSA_text.write(\"SANSA\\n\\n\")\n",
    "    for line in finlist:\n",
    "        SANSA_text.write(f'{line}\\n')"
   ]
  },
  {
   "cell_type": "code",
   "execution_count": 14,
   "id": "139d82ef",
   "metadata": {},
   "outputs": [],
   "source": [
    "diallist=[]\n",
    "finlist=[]\n",
    "speakerdial(7)\n",
    "\n",
    "with open('C:/Users/Sivam/Downloads/C1-Project-File Handling & String Manipulation-Dataset/NED.txt','w+')as NED_text:\n",
    "    NED_text.write(\"NED\\n\\n\")\n",
    "    for line in finlist:\n",
    "        NED_text.write(f'{line}\\n')"
   ]
  },
  {
   "cell_type": "code",
   "execution_count": 15,
   "id": "de2397e1",
   "metadata": {},
   "outputs": [],
   "source": [
    "diallist=[]\n",
    "finlist=[]\n",
    "speakerdial(8)\n",
    "\n",
    "with open('C:/Users/Sivam/Downloads/C1-Project-File Handling & String Manipulation-Dataset/ROBB.txt','w+')as ROBB_text:\n",
    "    ROBB_text.write(\"ROBB\\n\\n\")\n",
    "    for line in finlist:\n",
    "        ROBB_text.write(f'{line}\\n')"
   ]
  },
  {
   "cell_type": "code",
   "execution_count": 16,
   "id": "7cae0e49",
   "metadata": {},
   "outputs": [],
   "source": [
    "diallist=[]\n",
    "finlist=[]\n",
    "speakerdial(9)\n",
    "\n",
    "with open('C:/Users/Sivam/Downloads/C1-Project-File Handling & String Manipulation-Dataset/CASSEL.txt','w+')as CASSEL_text:\n",
    "    CASSEL_text.write(\"CASSEL\\n\\n\")\n",
    "    for line in finlist:\n",
    "        CASSEL_text.write(f'{line}\\n')"
   ]
  },
  {
   "cell_type": "code",
   "execution_count": 17,
   "id": "23ae1999",
   "metadata": {},
   "outputs": [],
   "source": [
    "diallist=[]\n",
    "finlist=[]\n",
    "speakerdial(10)\n",
    "\n",
    "with open('C:/Users/Sivam/Downloads/C1-Project-File Handling & String Manipulation-Dataset/CATELYN.txt','w+')as CATELYN_text:\n",
    "    CATELYN_text.write(\"CATELYN\\n\\n\")\n",
    "    for line in finlist:\n",
    "        CATELYN_text.write(f'{line}\\n')"
   ]
  },
  {
   "cell_type": "code",
   "execution_count": 18,
   "id": "b674c603",
   "metadata": {},
   "outputs": [],
   "source": [
    "diallist=[]\n",
    "finlist=[]\n",
    "speakerdial(11)\n",
    "\n",
    "with open('C:/Users/Sivam/Downloads/C1-Project-File Handling & String Manipulation-Dataset/BRAN.txt','w+')as BRAN_text:\n",
    "    BRAN_text.write(\"BRAN\\n\\n\")\n",
    "    for line in finlist:\n",
    "        BRAN_text.write(f'{line}\\n')"
   ]
  },
  {
   "cell_type": "code",
   "execution_count": 19,
   "id": "7bd05e28",
   "metadata": {},
   "outputs": [],
   "source": [
    "diallist=[]\n",
    "finlist=[]\n",
    "speakerdial(12)\n",
    "\n",
    "with open('C:/Users/Sivam/Downloads/C1-Project-File Handling & String Manipulation-Dataset/THEON.txt','w+')as THEON_text:\n",
    "    THEON_text.write(\"THEON\\n\\n\")\n",
    "    for line in finlist:\n",
    "        THEON_text.write(f'{line}\\n')"
   ]
  },
  {
   "cell_type": "code",
   "execution_count": 20,
   "id": "e9035bb0",
   "metadata": {},
   "outputs": [],
   "source": [
    "diallist=[]\n",
    "finlist=[]\n",
    "speakerdial(13)\n",
    "\n",
    "with open('C:/Users/Sivam/Downloads/C1-Project-File Handling & String Manipulation-Dataset/CERSEI.txt','w+')as CERSEI_text:\n",
    "    CERSEI_text.write(\"CERSEI\\n\\n\")\n",
    "    for line in finlist:\n",
    "        CERSEI_text.write(f'{line}\\n')"
   ]
  },
  {
   "cell_type": "code",
   "execution_count": 21,
   "id": "d479907f",
   "metadata": {},
   "outputs": [],
   "source": [
    "diallist=[]\n",
    "finlist=[]\n",
    "speakerdial(14)\n",
    "\n",
    "with open('C:/Users/Sivam/Downloads/C1-Project-File Handling & String Manipulation-Dataset/JAIME.txt','w+')as JAIME_text:\n",
    "    JAIME_text.write(\"JAIME\\n\\n\")\n",
    "    for line in finlist:\n",
    "        JAIME_text.write(f'{line}\\n')"
   ]
  },
  {
   "cell_type": "code",
   "execution_count": 22,
   "id": "bd28921e",
   "metadata": {},
   "outputs": [],
   "source": [
    "diallist=[]\n",
    "finlist=[]\n",
    "speakerdial(15)\n",
    "\n",
    "with open('C:/Users/Sivam/Downloads/C1-Project-File Handling & String Manipulation-Dataset/ROBERT.txt','w+')as ROBERT_text:\n",
    "    ROBERT_text.write(\"ROBERT\\n\\n\")\n",
    "    for line in finlist:\n",
    "        ROBERT_text.write(f'{line}\\n')"
   ]
  },
  {
   "cell_type": "code",
   "execution_count": 23,
   "id": "621272dc",
   "metadata": {},
   "outputs": [],
   "source": [
    "diallist=[]\n",
    "finlist=[]\n",
    "speakerdial(16)\n",
    "\n",
    "with open('C:/Users/Sivam/Downloads/C1-Project-File Handling & String Manipulation-Dataset/ARYA.txt','w+')as ARYA_text:\n",
    "    ARYA_text.write(\"ARYA\\n\\n\")\n",
    "    for line in finlist:\n",
    "        ARYA_text.write(f'{line}\\n')"
   ]
  }
 ],
 "metadata": {
  "kernelspec": {
   "display_name": "Python 3 (ipykernel)",
   "language": "python",
   "name": "python3"
  },
  "language_info": {
   "codemirror_mode": {
    "name": "ipython",
    "version": 3
   },
   "file_extension": ".py",
   "mimetype": "text/x-python",
   "name": "python",
   "nbconvert_exporter": "python",
   "pygments_lexer": "ipython3",
   "version": "3.9.7"
  }
 },
 "nbformat": 4,
 "nbformat_minor": 5
}
